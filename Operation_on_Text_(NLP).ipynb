{
  "nbformat": 4,
  "nbformat_minor": 0,
  "metadata": {
    "colab": {
      "name": "Operation on Text (NLP).ipynb",
      "provenance": [],
      "collapsed_sections": [],
      "include_colab_link": true
    },
    "kernelspec": {
      "name": "python3",
      "display_name": "Python 3"
    }
  },
  "cells": [
    {
      "cell_type": "markdown",
      "metadata": {
        "id": "view-in-github",
        "colab_type": "text"
      },
      "source": [
        "<a href=\"https://colab.research.google.com/github/AnuragBhattacharjee17/Natural-Language-Processing/blob/master/Operation_on_Text_(NLP).ipynb\" target=\"_parent\"><img src=\"https://colab.research.google.com/assets/colab-badge.svg\" alt=\"Open In Colab\"/></a>"
      ]
    },
    {
      "cell_type": "markdown",
      "metadata": {
        "id": "FJ2HyOnLsLP8",
        "colab_type": "text"
      },
      "source": [
        "** Operation on Text **"
      ]
    },
    {
      "cell_type": "code",
      "metadata": {
        "id": "QnsD2eQOuMaC",
        "colab_type": "code",
        "outputId": "446307db-33de-48ac-e116-5f0e681e9ee7",
        "colab": {
          "base_uri": "https://localhost:8080/",
          "height": 153
        }
      },
      "source": [
        "import string\n",
        "import nltk\n",
        "from nltk import word_tokenize\n",
        "nltk.download(\"punkt\")\n",
        "from nltk.corpus import stopwords\n",
        "nltk.download('stopwords')\n",
        "from string import punctuation\n",
        "from nltk import SnowballStemmer\n",
        "from nltk import pos_tag\n",
        "nltk.download('averaged_perceptron_tagger')\n",
        "from nltk import ngrams"
      ],
      "execution_count": 0,
      "outputs": [
        {
          "output_type": "stream",
          "text": [
            "[nltk_data] Downloading package punkt to /root/nltk_data...\n",
            "[nltk_data]   Package punkt is already up-to-date!\n",
            "[nltk_data] Downloading package stopwords to /root/nltk_data...\n",
            "[nltk_data]   Package stopwords is already up-to-date!\n",
            "[nltk_data] Downloading package averaged_perceptron_tagger to\n",
            "[nltk_data]     /root/nltk_data...\n",
            "[nltk_data]   Package averaged_perceptron_tagger is already up-to-\n",
            "[nltk_data]       date!\n"
          ],
          "name": "stdout"
        }
      ]
    },
    {
      "cell_type": "markdown",
      "metadata": {
        "id": "G6D4G8MguZrZ",
        "colab_type": "text"
      },
      "source": [
        "Reading the file ( Ensure the path is correct )"
      ]
    },
    {
      "cell_type": "code",
      "metadata": {
        "id": "DiMb3jatsDLi",
        "colab_type": "code",
        "outputId": "83f9fbfc-a8d6-4956-be0d-a48eb9b069ef",
        "colab": {
          "base_uri": "https://localhost:8080/",
          "height": 190
        }
      },
      "source": [
        "file = open(\"/content/New Year.txt\",'r')\n",
        "text = \"\"\n",
        "for i in file.readlines():\n",
        "  text=text+i\n",
        "print(text)"
      ],
      "execution_count": 0,
      "outputs": [
        {
          "output_type": "stream",
          "text": [
            "New Year is the time or day at which a new calendar year begins and the calendar's year count increments by one.\n",
            "\n",
            "Many cultures celebrate the event in some manner[1] and the 1st day of January is often marked as a national holiday.\n",
            "\n",
            "In the Gregorian calendar, the most widely used calendar system today, New Year occurs on January 1 (New Year's Day). This was also the first day of the year in the original Julian calendar and of the Roman calendar (after 153 BC).[2].\n",
            "\n",
            "During the Middle Ages in western Europe, while the Julian calendar was still in use, authorities moved New Year's Day, depending upon locale, to one of several other days, including March 1, March 25, Easter, September 1, and December 25. Beginning in 1582, the adoptions of the Gregorian calendar has meant that many national or local dates in the Western World and beyond have changed to using one fixed date for New Year's Day, January 1.\n",
            "\n",
            "Other cultures observe their traditional or religious New Years Day according to their own customs, sometimes in addition to a (Gregorian) civil calendar. Chinese New Year, the Islamic New Year, the traditional Japanese New Year and the Jewish New Year are the more well-known examples. India and other countries continue to celebrate New Year on different dates.\n"
          ],
          "name": "stdout"
        }
      ]
    },
    {
      "cell_type": "markdown",
      "metadata": {
        "id": "gkLjNEysu5BR",
        "colab_type": "text"
      },
      "source": [
        "Trimming the text ( To remove unwanted spaces in the begining and at the end)"
      ]
    },
    {
      "cell_type": "code",
      "metadata": {
        "id": "qUYoJOBou2oZ",
        "colab_type": "code",
        "outputId": "3a58aae4-29ca-4dbc-8de1-157099eead22",
        "colab": {
          "base_uri": "https://localhost:8080/",
          "height": 190
        }
      },
      "source": [
        "#trimming the text\n",
        "text_trim= text.strip()\n",
        "print(text_trim)"
      ],
      "execution_count": 0,
      "outputs": [
        {
          "output_type": "stream",
          "text": [
            "New Year is the time or day at which a new calendar year begins and the calendar's year count increments by one.\n",
            "\n",
            "Many cultures celebrate the event in some manner[1] and the 1st day of January is often marked as a national holiday.\n",
            "\n",
            "In the Gregorian calendar, the most widely used calendar system today, New Year occurs on January 1 (New Year's Day). This was also the first day of the year in the original Julian calendar and of the Roman calendar (after 153 BC).[2].\n",
            "\n",
            "During the Middle Ages in western Europe, while the Julian calendar was still in use, authorities moved New Year's Day, depending upon locale, to one of several other days, including March 1, March 25, Easter, September 1, and December 25. Beginning in 1582, the adoptions of the Gregorian calendar has meant that many national or local dates in the Western World and beyond have changed to using one fixed date for New Year's Day, January 1.\n",
            "\n",
            "Other cultures observe their traditional or religious New Years Day according to their own customs, sometimes in addition to a (Gregorian) civil calendar. Chinese New Year, the Islamic New Year, the traditional Japanese New Year and the Jewish New Year are the more well-known examples. India and other countries continue to celebrate New Year on different dates.\n"
          ],
          "name": "stdout"
        }
      ]
    },
    {
      "cell_type": "code",
      "metadata": {
        "id": "Qu0ytRUPvp0z",
        "colab_type": "code",
        "outputId": "1ee69132-6157-41c1-b4c3-b83d2dfd1965",
        "colab": {
          "base_uri": "https://localhost:8080/",
          "height": 190
        }
      },
      "source": [
        "#Convert the text to lower or upper case\n",
        "converted_text= text_trim.lower()\n",
        "print(converted_text)"
      ],
      "execution_count": 0,
      "outputs": [
        {
          "output_type": "stream",
          "text": [
            "new year is the time or day at which a new calendar year begins and the calendar's year count increments by one.\n",
            "\n",
            "many cultures celebrate the event in some manner[1] and the 1st day of january is often marked as a national holiday.\n",
            "\n",
            "in the gregorian calendar, the most widely used calendar system today, new year occurs on january 1 (new year's day). this was also the first day of the year in the original julian calendar and of the roman calendar (after 153 bc).[2].\n",
            "\n",
            "during the middle ages in western europe, while the julian calendar was still in use, authorities moved new year's day, depending upon locale, to one of several other days, including march 1, march 25, easter, september 1, and december 25. beginning in 1582, the adoptions of the gregorian calendar has meant that many national or local dates in the western world and beyond have changed to using one fixed date for new year's day, january 1.\n",
            "\n",
            "other cultures observe their traditional or religious new years day according to their own customs, sometimes in addition to a (gregorian) civil calendar. chinese new year, the islamic new year, the traditional japanese new year and the jewish new year are the more well-known examples. india and other countries continue to celebrate new year on different dates.\n"
          ],
          "name": "stdout"
        }
      ]
    },
    {
      "cell_type": "code",
      "metadata": {
        "id": "EFTT2oCHwbFo",
        "colab_type": "code",
        "outputId": "2bec61f0-7ea8-4f52-c3c1-764e5dfad7aa",
        "colab": {
          "base_uri": "https://localhost:8080/",
          "height": 54
        }
      },
      "source": [
        "#Tokenize the given text and determine its vocabulary\n",
        "tokenized_text = nltk.word_tokenize(converted_text)\n",
        "#Get its vocabulary\n",
        "vocab_text= set(tokenized_text)\n",
        "print(vocab_text)"
      ],
      "execution_count": 0,
      "outputs": [
        {
          "output_type": "stream",
          "text": [
            "{'days', 'including', '1.', 'changed', '(', 'other', 'using', '25.', 'europe', 'celebrate', '1582', 'used', '1', 'marked', 'julian', 'continue', 'according', 'jewish', 'begins', 'india', 'islamic', 'holiday', 'different', 'fixed', 'at', 'year', 'or', 'use', 'time', 'cultures', 'as', 'countries', ')', 'count', 'roman', 'many', 'some', 'moved', 'observe', \"'s\", '25', ',', 'religious', 'calendar', 'locale', 'world', 'easter', 'manner', ']', 'ages', 'was', 'their', 'still', 'more', 'adoptions', 'is', 'widely', 'march', 'japanese', '153', 'in', 'meant', 'years', 'by', 'event', 'that', 'have', 'beginning', 'local', 'addition', 'which', 'while', 'most', 'customs', '2', 'increments', 'middle', 'for', 'dates', 'traditional', 'after', 'bc', 'depending', 'several', 'authorities', 'one', 'this', 'the', 'original', 'civil', 'are', 'january', 'often', 'sometimes', '1st', 'chinese', 'examples', 'today', 'and', 'western', 'date', 'own', '.', 'december', 'on', 'september', 'upon', 'first', 'a', 'new', 'gregorian', 'occurs', 'day', 'well-known', 'system', 'also', 'beyond', 'national', '[', 'during', 'has', 'of', 'to'}\n"
          ],
          "name": "stdout"
        }
      ]
    },
    {
      "cell_type": "code",
      "metadata": {
        "id": "bUiff4vWx_yC",
        "colab_type": "code",
        "outputId": "fc31517b-1c98-4850-85ba-e90b394e431d",
        "colab": {
          "base_uri": "https://localhost:8080/",
          "height": 54
        }
      },
      "source": [
        "#Remove StopWords\n",
        "stopwords_set= set(stopwords.words(\"english\"))\n",
        "remove_stopwords = vocab_text-stopwords_set\n",
        "print(remove_stopwords)"
      ],
      "execution_count": 0,
      "outputs": [
        {
          "output_type": "stream",
          "text": [
            "{'days', 'including', '1.', 'changed', '(', 'using', '25.', 'europe', 'celebrate', '1582', 'used', '1', 'marked', 'julian', 'continue', 'according', 'jewish', 'begins', 'india', 'islamic', 'holiday', 'different', 'fixed', 'year', 'use', 'time', 'cultures', 'countries', ')', 'count', 'roman', 'many', 'moved', 'observe', \"'s\", '25', ',', 'religious', 'calendar', 'locale', 'world', 'easter', 'manner', ']', 'ages', 'still', 'adoptions', 'widely', 'march', 'japanese', '153', 'meant', 'years', 'event', 'beginning', 'local', 'addition', 'customs', '2', 'increments', 'middle', 'dates', 'traditional', 'bc', 'depending', 'several', 'authorities', 'one', 'original', 'civil', 'january', 'often', 'sometimes', '1st', 'chinese', 'examples', 'today', 'western', 'date', '.', 'december', 'september', 'upon', 'first', 'new', 'gregorian', 'occurs', 'day', 'well-known', 'system', 'also', 'beyond', 'national', '['}\n"
          ],
          "name": "stdout"
        }
      ]
    },
    {
      "cell_type": "code",
      "metadata": {
        "id": "UXetCyM0zN58",
        "colab_type": "code",
        "outputId": "fa0073f6-bb25-4cb4-e1bf-e1e701e63885",
        "colab": {
          "base_uri": "https://localhost:8080/",
          "height": 54
        }
      },
      "source": [
        "#Remove punctuation\n",
        "punctuation_set = set(punctuation)\n",
        "remove_punctuation = remove_stopwords- punctuation_set\n",
        "print(remove_punctuation)\n"
      ],
      "execution_count": 0,
      "outputs": [
        {
          "output_type": "stream",
          "text": [
            "{'days', 'including', '1.', 'changed', 'using', '25.', 'europe', 'celebrate', '1582', 'used', '1', 'marked', 'julian', 'continue', 'according', 'jewish', 'begins', 'india', 'islamic', 'holiday', 'different', 'fixed', 'year', 'use', 'time', 'cultures', 'countries', 'count', 'roman', 'many', 'moved', 'observe', \"'s\", '25', 'religious', 'calendar', 'locale', 'world', 'easter', 'manner', 'ages', 'still', 'adoptions', 'widely', 'march', 'japanese', '153', 'meant', 'years', 'event', 'beginning', 'local', 'addition', 'customs', '2', 'increments', 'middle', 'dates', 'traditional', 'bc', 'depending', 'several', 'authorities', 'one', 'original', 'civil', 'january', 'often', 'sometimes', '1st', 'chinese', 'examples', 'today', 'western', 'date', 'december', 'september', 'upon', 'first', 'new', 'gregorian', 'occurs', 'day', 'well-known', 'system', 'also', 'beyond', 'national'}\n"
          ],
          "name": "stdout"
        }
      ]
    },
    {
      "cell_type": "code",
      "metadata": {
        "id": "4A61QtHh0ATF",
        "colab_type": "code",
        "outputId": "b994e190-f1f7-4e6c-8f19-4c1c839ea28b",
        "colab": {
          "base_uri": "https://localhost:8080/",
          "height": 54
        }
      },
      "source": [
        "#Normalize the text using Stemming\n",
        "stemmed_list=[]\n",
        "stemObj= SnowballStemmer(\"english\")\n",
        "for i in remove_punctuation:\n",
        "  stemmed_list.append(stemObj.stem(i))\n",
        "print(stemmed_list)"
      ],
      "execution_count": 0,
      "outputs": [
        {
          "output_type": "stream",
          "text": [
            "['day', 'includ', '1.', 'chang', 'use', '25.', 'europ', 'celebr', '1582', 'use', '1', 'mark', 'julian', 'continu', 'accord', 'jewish', 'begin', 'india', 'islam', 'holiday', 'differ', 'fix', 'year', 'use', 'time', 'cultur', 'countri', 'count', 'roman', 'mani', 'move', 'observ', \"'s\", '25', 'religi', 'calendar', 'local', 'world', 'easter', 'manner', 'age', 'still', 'adopt', 'wide', 'march', 'japanes', '153', 'meant', 'year', 'event', 'begin', 'local', 'addit', 'custom', '2', 'increment', 'middl', 'date', 'tradit', 'bc', 'depend', 'sever', 'author', 'one', 'origin', 'civil', 'januari', 'often', 'sometim', '1st', 'chines', 'exampl', 'today', 'western', 'date', 'decemb', 'septemb', 'upon', 'first', 'new', 'gregorian', 'occur', 'day', 'well-known', 'system', 'also', 'beyond', 'nation']\n"
          ],
          "name": "stdout"
        }
      ]
    },
    {
      "cell_type": "code",
      "metadata": {
        "id": "yCVO2xaA08PL",
        "colab_type": "code",
        "outputId": "df206066-1ec1-4d2c-f7c1-ef25178ecb39",
        "colab": {
          "base_uri": "https://localhost:8080/",
          "height": 54
        }
      },
      "source": [
        "#Parts of Speech\n",
        "pos_text = pos_tag(stemmed_list)\n",
        "print((pos_text))"
      ],
      "execution_count": 0,
      "outputs": [
        {
          "output_type": "stream",
          "text": [
            "[('day', 'NN'), ('includ', 'VB'), ('1.', 'CD'), ('chang', 'NN'), ('use', 'NN'), ('25.', 'CD'), ('europ', 'NN'), ('celebr', 'NN'), ('1582', 'CD'), ('use', 'NN'), ('1', 'CD'), ('mark', 'NN'), ('julian', 'JJ'), ('continu', 'NN'), ('accord', 'NN'), ('jewish', 'JJ'), ('begin', 'NN'), ('india', 'NN'), ('islam', 'NN'), ('holiday', 'NN'), ('differ', 'VBP'), ('fix', 'JJ'), ('year', 'NN'), ('use', 'NN'), ('time', 'NN'), ('cultur', 'NN'), ('countri', 'NN'), ('count', 'NN'), ('roman', 'NN'), ('mani', 'VBZ'), ('move', 'VBP'), ('observ', 'NN'), (\"'s\", 'POS'), ('25', 'CD'), ('religi', 'NN'), ('calendar', 'NN'), ('local', 'JJ'), ('world', 'NN'), ('easter', 'NN'), ('manner', 'NN'), ('age', 'NN'), ('still', 'RB'), ('adopt', 'VB'), ('wide', 'JJ'), ('march', 'NN'), ('japanes', 'NNS'), ('153', 'CD'), ('meant', 'JJ'), ('year', 'NN'), ('event', 'NN'), ('begin', 'VB'), ('local', 'JJ'), ('addit', 'NN'), ('custom', 'NN'), ('2', 'CD'), ('increment', 'NN'), ('middl', 'NN'), ('date', 'NN'), ('tradit', 'NN'), ('bc', 'NN'), ('depend', 'VBP'), ('sever', 'NN'), ('author', 'NN'), ('one', 'CD'), ('origin', 'NN'), ('civil', 'JJ'), ('januari', 'NN'), ('often', 'RB'), ('sometim', 'VBZ'), ('1st', 'CD'), ('chines', 'NNS'), ('exampl', 'RB'), ('today', 'NN'), ('western', 'JJ'), ('date', 'NN'), ('decemb', 'NN'), ('septemb', 'NN'), ('upon', 'IN'), ('first', 'JJ'), ('new', 'JJ'), ('gregorian', 'JJ'), ('occur', 'JJ'), ('day', 'NN'), ('well-known', 'JJ'), ('system', 'NN'), ('also', 'RB'), ('beyond', 'IN'), ('nation', 'NN')]\n"
          ],
          "name": "stdout"
        }
      ]
    },
    {
      "cell_type": "code",
      "metadata": {
        "id": "krPcnicM2n-Q",
        "colab_type": "code",
        "outputId": "8f67cf35-15b8-4121-ad86-c96ff20f97a4",
        "colab": {
          "base_uri": "https://localhost:8080/",
          "height": 54
        }
      },
      "source": [
        "#Bigrams\n",
        "bigram = ngrams(stemmed_list,2)\n",
        "print(list(bigram))"
      ],
      "execution_count": 0,
      "outputs": [
        {
          "output_type": "stream",
          "text": [
            "[('day', 'includ'), ('includ', '1.'), ('1.', 'chang'), ('chang', 'use'), ('use', '25.'), ('25.', 'europ'), ('europ', 'celebr'), ('celebr', '1582'), ('1582', 'use'), ('use', '1'), ('1', 'mark'), ('mark', 'julian'), ('julian', 'continu'), ('continu', 'accord'), ('accord', 'jewish'), ('jewish', 'begin'), ('begin', 'india'), ('india', 'islam'), ('islam', 'holiday'), ('holiday', 'differ'), ('differ', 'fix'), ('fix', 'year'), ('year', 'use'), ('use', 'time'), ('time', 'cultur'), ('cultur', 'countri'), ('countri', 'count'), ('count', 'roman'), ('roman', 'mani'), ('mani', 'move'), ('move', 'observ'), ('observ', \"'s\"), (\"'s\", '25'), ('25', 'religi'), ('religi', 'calendar'), ('calendar', 'local'), ('local', 'world'), ('world', 'easter'), ('easter', 'manner'), ('manner', 'age'), ('age', 'still'), ('still', 'adopt'), ('adopt', 'wide'), ('wide', 'march'), ('march', 'japanes'), ('japanes', '153'), ('153', 'meant'), ('meant', 'year'), ('year', 'event'), ('event', 'begin'), ('begin', 'local'), ('local', 'addit'), ('addit', 'custom'), ('custom', '2'), ('2', 'increment'), ('increment', 'middl'), ('middl', 'date'), ('date', 'tradit'), ('tradit', 'bc'), ('bc', 'depend'), ('depend', 'sever'), ('sever', 'author'), ('author', 'one'), ('one', 'origin'), ('origin', 'civil'), ('civil', 'januari'), ('januari', 'often'), ('often', 'sometim'), ('sometim', '1st'), ('1st', 'chines'), ('chines', 'exampl'), ('exampl', 'today'), ('today', 'western'), ('western', 'date'), ('date', 'decemb'), ('decemb', 'septemb'), ('septemb', 'upon'), ('upon', 'first'), ('first', 'new'), ('new', 'gregorian'), ('gregorian', 'occur'), ('occur', 'day'), ('day', 'well-known'), ('well-known', 'system'), ('system', 'also'), ('also', 'beyond'), ('beyond', 'nation')]\n"
          ],
          "name": "stdout"
        }
      ]
    }
  ]
}