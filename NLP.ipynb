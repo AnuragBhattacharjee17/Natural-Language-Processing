{
  "nbformat": 4,
  "nbformat_minor": 0,
  "metadata": {
    "colab": {
      "name": "NLP.ipynb",
      "provenance": [],
      "collapsed_sections": [],
      "include_colab_link": true
    },
    "kernelspec": {
      "name": "python3",
      "display_name": "Python 3"
    }
  },
  "cells": [
    {
      "cell_type": "markdown",
      "metadata": {
        "id": "view-in-github",
        "colab_type": "text"
      },
      "source": [
        "<a href=\"https://colab.research.google.com/github/AnuragBhattacharjee17/Natural-Language-Processing/blob/master/NLP.ipynb\" target=\"_parent\"><img src=\"https://colab.research.google.com/assets/colab-badge.svg\" alt=\"Open In Colab\"/></a>"
      ]
    },
    {
      "cell_type": "code",
      "metadata": {
        "id": "Yk9ozacfGzp2",
        "colab_type": "code",
        "outputId": "26b4154b-9651-4c41-9148-721530c0f5fb",
        "colab": {
          "base_uri": "https://localhost:8080/",
          "height": 255
        }
      },
      "source": [
        "import nltk\n",
        "nltk.download('punkt')\n",
        "nltk.download('averaged_perceptron_tagger')\n",
        "nltk.download('wordnet')\n",
        "nltk.download('stopwords')\n"
      ],
      "execution_count": 0,
      "outputs": [
        {
          "output_type": "stream",
          "text": [
            "[nltk_data] Downloading package punkt to /root/nltk_data...\n",
            "[nltk_data]   Package punkt is already up-to-date!\n",
            "[nltk_data] Downloading package averaged_perceptron_tagger to\n",
            "[nltk_data]     /root/nltk_data...\n",
            "[nltk_data]   Package averaged_perceptron_tagger is already up-to-\n",
            "[nltk_data]       date!\n",
            "[nltk_data] Downloading package wordnet to /root/nltk_data...\n",
            "[nltk_data]   Package wordnet is already up-to-date!\n",
            "[nltk_data] Downloading package stopwords to /root/nltk_data...\n",
            "[nltk_data]   Package stopwords is already up-to-date!\n",
            "[nltk_data] Downloading package brown to /root/nltk_data...\n",
            "[nltk_data]   Package brown is already up-to-date!\n",
            "[nltk_data] Error loading genres: Package 'genres' not found in index\n"
          ],
          "name": "stdout"
        },
        {
          "output_type": "execute_result",
          "data": {
            "text/plain": [
              "False"
            ]
          },
          "metadata": {
            "tags": []
          },
          "execution_count": 32
        }
      ]
    },
    {
      "cell_type": "code",
      "metadata": {
        "id": "sJeR0d0XHC4O",
        "colab_type": "code",
        "colab": {}
      },
      "source": [
        "text = \"India is a republic nation. We are proud Indians.\""
      ],
      "execution_count": 0,
      "outputs": []
    },
    {
      "cell_type": "markdown",
      "metadata": {
        "id": "kfNG_9f_IL0T",
        "colab_type": "text"
      },
      "source": [
        "**Text Sclicing**"
      ]
    },
    {
      "cell_type": "code",
      "metadata": {
        "id": "GcUqHOHmHVjI",
        "colab_type": "code",
        "outputId": "9ea7b2bc-2789-4b7c-b3b9-4ad16a6e274f",
        "colab": {
          "base_uri": "https://localhost:8080/",
          "height": 34
        }
      },
      "source": [
        "print(len(text))"
      ],
      "execution_count": 0,
      "outputs": [
        {
          "output_type": "stream",
          "text": [
            "49\n"
          ],
          "name": "stdout"
        }
      ]
    },
    {
      "cell_type": "code",
      "metadata": {
        "id": "2fNhVz6RHZic",
        "colab_type": "code",
        "outputId": "cf898d16-b4b3-46dc-9776-f8095137fed5",
        "colab": {
          "base_uri": "https://localhost:8080/",
          "height": 34
        }
      },
      "source": [
        "print(text[0:5])"
      ],
      "execution_count": 0,
      "outputs": [
        {
          "output_type": "stream",
          "text": [
            "India\n"
          ],
          "name": "stdout"
        }
      ]
    },
    {
      "cell_type": "markdown",
      "metadata": {
        "id": "bD4ii1OeIYpB",
        "colab_type": "text"
      },
      "source": [
        "**TOKENS**"
      ]
    },
    {
      "cell_type": "code",
      "metadata": {
        "id": "3fz_A_ukHpzU",
        "colab_type": "code",
        "outputId": "04c3e5a3-ed30-4f65-e719-65be1eb4ddaa",
        "colab": {
          "base_uri": "https://localhost:8080/",
          "height": 34
        }
      },
      "source": [
        "print(nltk.word_tokenize(text))"
      ],
      "execution_count": 0,
      "outputs": [
        {
          "output_type": "stream",
          "text": [
            "['India', 'is', 'a', 'republic', 'nation', '.', 'We', 'are', 'proud', 'Indians', '.']\n"
          ],
          "name": "stdout"
        }
      ]
    },
    {
      "cell_type": "markdown",
      "metadata": {
        "id": "iqb62zOPJCUf",
        "colab_type": "text"
      },
      "source": [
        "**Vocabulary ( Set of Unique Words )**"
      ]
    },
    {
      "cell_type": "code",
      "metadata": {
        "id": "JLHPMUNUIoJg",
        "colab_type": "code",
        "outputId": "696d1d9f-4d13-40c6-a390-4e7c78946fd1",
        "colab": {
          "base_uri": "https://localhost:8080/",
          "height": 34
        }
      },
      "source": [
        "tokens = nltk.word_tokenize(text)\n",
        "vocab=sorted(set(tokens))\n",
        "print(vocab)"
      ],
      "execution_count": 0,
      "outputs": [
        {
          "output_type": "stream",
          "text": [
            "['.', 'India', 'Indians', 'We', 'a', 'are', 'is', 'nation', 'proud', 'republic']\n"
          ],
          "name": "stdout"
        }
      ]
    },
    {
      "cell_type": "markdown",
      "metadata": {
        "id": "FS4WpurqJSCk",
        "colab_type": "text"
      },
      "source": [
        "**Punctuations**"
      ]
    },
    {
      "cell_type": "code",
      "metadata": {
        "id": "kGNrXLE5JRZH",
        "colab_type": "code",
        "outputId": "8d4499d5-c7ac-4f7e-b5c1-b6e57ace5fe7",
        "colab": {
          "base_uri": "https://localhost:8080/",
          "height": 34
        }
      },
      "source": [
        "from string import punctuation\n",
        "punc =[]\n",
        "for i in vocab:\n",
        "  if i not in punctuation:\n",
        "    punc.append(i)\n",
        "print(punc)"
      ],
      "execution_count": 0,
      "outputs": [
        {
          "output_type": "stream",
          "text": [
            "['India', 'Indians', 'We', 'a', 'are', 'is', 'nation', 'proud', 'republic']\n"
          ],
          "name": "stdout"
        }
      ]
    },
    {
      "cell_type": "markdown",
      "metadata": {
        "id": "d-wzDLzRKnMr",
        "colab_type": "text"
      },
      "source": [
        "**Parts Of Speech**"
      ]
    },
    {
      "cell_type": "code",
      "metadata": {
        "id": "iZnHNlMDKmtq",
        "colab_type": "code",
        "outputId": "15b1c86c-886a-4f4b-db67-ef2d3431bff8",
        "colab": {
          "base_uri": "https://localhost:8080/",
          "height": 54
        }
      },
      "source": [
        "from nltk import pos_tag\n",
        "pos = pos_tag(punc)\n",
        "print(pos)"
      ],
      "execution_count": 0,
      "outputs": [
        {
          "output_type": "stream",
          "text": [
            "[('India', 'NNP'), ('Indians', 'NNPS'), ('We', 'PRP'), ('a', 'DT'), ('are', 'VBP'), ('is', 'VBZ'), ('nation', 'NN'), ('proud', 'JJ'), ('republic', 'NN')]\n"
          ],
          "name": "stdout"
        }
      ]
    },
    {
      "cell_type": "markdown",
      "metadata": {
        "id": "14yO3VuVMsdW",
        "colab_type": "text"
      },
      "source": [
        "**Stemming**"
      ]
    },
    {
      "cell_type": "code",
      "metadata": {
        "id": "u5DeT1hNJeSG",
        "colab_type": "code",
        "outputId": "955ec939-0e2e-4fa8-aeaf-d1e7bc66112d",
        "colab": {
          "base_uri": "https://localhost:8080/",
          "height": 34
        }
      },
      "source": [
        "from nltk import SnowballStemmer\n",
        "stemObj = SnowballStemmer('english')\n",
        "stemObj.stem('Studying')"
      ],
      "execution_count": 0,
      "outputs": [
        {
          "output_type": "execute_result",
          "data": {
            "text/plain": [
              "'studi'"
            ]
          },
          "metadata": {
            "tags": []
          },
          "execution_count": 10
        }
      ]
    },
    {
      "cell_type": "code",
      "metadata": {
        "id": "tcP2-4qMNOfY",
        "colab_type": "code",
        "outputId": "80012c34-2191-4c0c-8bec-dda90d4f0c91",
        "colab": {
          "base_uri": "https://localhost:8080/",
          "height": 34
        }
      },
      "source": [
        "stem_words=[]\n",
        "for i in punc:\n",
        "  stem_words.append(stemObj.stem(i))\n",
        "print(stem_words)"
      ],
      "execution_count": 0,
      "outputs": [
        {
          "output_type": "stream",
          "text": [
            "['india', 'indian', 'we', 'a', 'are', 'is', 'nation', 'proud', 'republ']\n"
          ],
          "name": "stdout"
        }
      ]
    },
    {
      "cell_type": "markdown",
      "metadata": {
        "id": "JCFbfdfjNnIG",
        "colab_type": "text"
      },
      "source": [
        "**Lemmatization**"
      ]
    },
    {
      "cell_type": "code",
      "metadata": {
        "id": "Ugaum6xQNsYd",
        "colab_type": "code",
        "outputId": "02fb7d06-5641-44c9-f167-530b72f11f61",
        "colab": {
          "base_uri": "https://localhost:8080/",
          "height": 34
        }
      },
      "source": [
        "from nltk import WordNetLemmatizer\n",
        "lemmaObj=WordNetLemmatizer()\n",
        "lemma_words=[]\n",
        "for i in punc:\n",
        "  lemma_words.append(lemmaObj.lemmatize(i))\n",
        "print(lemma_words)"
      ],
      "execution_count": 0,
      "outputs": [
        {
          "output_type": "stream",
          "text": [
            "['India', 'Indians', 'We', 'a', 'are', 'is', 'nation', 'proud', 'republic']\n"
          ],
          "name": "stdout"
        }
      ]
    },
    {
      "cell_type": "markdown",
      "metadata": {
        "id": "pAhN57PqOzYk",
        "colab_type": "text"
      },
      "source": [
        "**StopWords**"
      ]
    },
    {
      "cell_type": "code",
      "metadata": {
        "id": "FP5YWDjqO1wL",
        "colab_type": "code",
        "outputId": "9bdcab6e-9d2b-44b0-9e1c-427da0319e87",
        "colab": {
          "base_uri": "https://localhost:8080/",
          "height": 34
        }
      },
      "source": [
        "from nltk.corpus import stopwords\n",
        "word_stopWords=[]\n",
        "set_stopWords=set(stopwords.words('english'))\n",
        "for i in punc:\n",
        "  if i not in set_stopWords:\n",
        "    word_stopWords.append(i)\n",
        "print(word_stopWords)"
      ],
      "execution_count": 0,
      "outputs": [
        {
          "output_type": "stream",
          "text": [
            "['India', 'Indians', 'We', 'nation', 'proud', 'republic']\n"
          ],
          "name": "stdout"
        }
      ]
    },
    {
      "cell_type": "markdown",
      "metadata": {
        "id": "TgTbB2C8rmoM",
        "colab_type": "text"
      },
      "source": [
        "**Frequency Distribution**"
      ]
    },
    {
      "cell_type": "code",
      "metadata": {
        "id": "iGwhCo-DrtjI",
        "colab_type": "code",
        "colab": {}
      },
      "source": [
        "text = \"I saw John coming. He was with Mary. I talked to John and Mary. \\\n",
        "John said he met Mary on the way. John and Mary were going to school.\""
      ],
      "execution_count": 0,
      "outputs": []
    },
    {
      "cell_type": "code",
      "metadata": {
        "id": "QXic2cevs-Pe",
        "colab_type": "code",
        "outputId": "92cac3db-aab4-43f8-d84d-7b417968e4f8",
        "colab": {
          "base_uri": "https://localhost:8080/",
          "height": 34
        }
      },
      "source": [
        "print(nltk.FreqDist(nltk.word_tokenize(text)))"
      ],
      "execution_count": 0,
      "outputs": [
        {
          "output_type": "stream",
          "text": [
            "<FreqDist with 21 samples and 34 outcomes>\n"
          ],
          "name": "stdout"
        }
      ]
    },
    {
      "cell_type": "code",
      "metadata": {
        "id": "avmHjYj2s4U0",
        "colab_type": "code",
        "outputId": "d7fadb5c-b4f6-4527-8fa2-d7cd9db9628a",
        "colab": {
          "base_uri": "https://localhost:8080/",
          "height": 54
        }
      },
      "source": [
        "print(text.split())"
      ],
      "execution_count": 0,
      "outputs": [
        {
          "output_type": "stream",
          "text": [
            "['I', 'saw', 'John', 'coming.', 'He', 'was', 'with', 'Mary.', 'I', 'talked', 'to', 'John', 'and', 'Mary.', 'John', 'said', 'he', 'met', 'Mary', 'on', 'the', 'way.', 'John', 'and', 'Mary', 'were', 'going', 'to', 'school.']\n"
          ],
          "name": "stdout"
        }
      ]
    },
    {
      "cell_type": "code",
      "metadata": {
        "id": "AkqSks7bsKVz",
        "colab_type": "code",
        "outputId": "ead27dc1-086e-4252-9158-eb3442ec51fd",
        "colab": {
          "base_uri": "https://localhost:8080/",
          "height": 309
        }
      },
      "source": [
        "nltk.FreqDist(text.split()).plot()"
      ],
      "execution_count": 0,
      "outputs": [
        {
          "output_type": "display_data",
          "data": {
            "image/png": "[encoded data removed]",
            "text/plain": [
              "<Figure size 432x288 with 1 Axes>"
            ]
          },
          "metadata": {
            "tags": []
          }
        }
      ]
    },
    {
      "cell_type": "markdown",
      "metadata": {
        "id": "wuTepbs5vsTY",
        "colab_type": "text"
      },
      "source": [
        "**N-Grams**"
      ]
    },
    {
      "cell_type": "code",
      "metadata": {
        "id": "OtKiQXRYw5YL",
        "colab_type": "code",
        "outputId": "5ca08d05-0ae2-4f13-ce87-c846a8047729",
        "colab": {
          "base_uri": "https://localhost:8080/",
          "height": 54
        }
      },
      "source": [
        "# BiGram\n",
        "from nltk import ngrams\n",
        "bigram = ngrams(punc,2)\n",
        "print(list(bigram))"
      ],
      "execution_count": 0,
      "outputs": [
        {
          "output_type": "stream",
          "text": [
            "[('India', 'Indians'), ('Indians', 'We'), ('We', 'a'), ('a', 'are'), ('are', 'is'), ('is', 'nation'), ('nation', 'proud'), ('proud', 'republic')]\n"
          ],
          "name": "stdout"
        }
      ]
    },
    {
      "cell_type": "code",
      "metadata": {
        "id": "l6Dw_8J1xamE",
        "colab_type": "code",
        "outputId": "ff7d2454-c2cb-4560-a578-63eb35ac31da",
        "colab": {
          "base_uri": "https://localhost:8080/",
          "height": 54
        }
      },
      "source": [
        "#TriGrams\n",
        "trigram=ngrams(punc,3)\n",
        "print(list(trigram))"
      ],
      "execution_count": 0,
      "outputs": [
        {
          "output_type": "stream",
          "text": [
            "[('India', 'Indians', 'We'), ('Indians', 'We', 'a'), ('We', 'a', 'are'), ('a', 'are', 'is'), ('are', 'is', 'nation'), ('is', 'nation', 'proud'), ('nation', 'proud', 'republic')]\n"
          ],
          "name": "stdout"
        }
      ]
    }
  ]
}