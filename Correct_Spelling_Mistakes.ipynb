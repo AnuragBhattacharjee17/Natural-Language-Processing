{
  "nbformat": 4,
  "nbformat_minor": 0,
  "metadata": {
    "colab": {
      "name": "Correct Spelling Mistakes.ipynb",
      "provenance": [],
      "authorship_tag": "ABX9TyOu6ul4QmbLASQEriMHFs6i",
      "include_colab_link": true
    },
    "kernelspec": {
      "name": "python3",
      "display_name": "Python 3"
    }
  },
  "cells": [
    {
      "cell_type": "markdown",
      "metadata": {
        "id": "view-in-github",
        "colab_type": "text"
      },
      "source": [
        "<a href=\"https://colab.research.google.com/github/AnuragBhattacharjee17/Natural-Language-Processing/blob/master/Correct_Spelling_Mistakes.ipynb\" target=\"_parent\"><img src=\"https://colab.research.google.com/assets/colab-badge.svg\" alt=\"Open In Colab\"/></a>"
      ]
    },
    {
      "cell_type": "code",
      "metadata": {
        "id": "E1p5eEEPD30f",
        "colab_type": "code",
        "outputId": "9f57541f-aa04-409d-8e6b-60d960845418",
        "colab": {
          "base_uri": "https://localhost:8080/",
          "height": 136
        }
      },
      "source": [
        "import nltk\n",
        "from nltk import word_tokenize\n",
        "nltk.download('punkt')\n",
        "nltk.download('words')\n",
        "nltk.download(\"names\")"
      ],
      "execution_count": 1,
      "outputs": [
        {
          "output_type": "stream",
          "text": [
            "[nltk_data] Downloading package punkt to /root/nltk_data...\n",
            "[nltk_data]   Unzipping tokenizers/punkt.zip.\n",
            "[nltk_data] Downloading package words to /root/nltk_data...\n",
            "[nltk_data]   Unzipping corpora/words.zip.\n",
            "[nltk_data] Downloading package names to /root/nltk_data...\n",
            "[nltk_data]   Unzipping corpora/names.zip.\n"
          ],
          "name": "stdout"
        },
        {
          "output_type": "execute_result",
          "data": {
            "text/plain": [
              "True"
            ]
          },
          "metadata": {
            "tags": []
          },
          "execution_count": 1
        }
      ]
    },
    {
      "cell_type": "code",
      "metadata": {
        "id": "QkyW9dHoxIus",
        "colab_type": "code",
        "outputId": "c9770017-a7f6-4d77-f906-b6853edcc7f1",
        "colab": {
          "base_uri": "https://localhost:8080/",
          "height": 122
        }
      },
      "source": [
        " pip install pyspellchecker"
      ],
      "execution_count": 3,
      "outputs": [
        {
          "output_type": "stream",
          "text": [
            "Collecting pyspellchecker\n",
            "\u001b[?25l  Downloading https://files.pythonhosted.org/packages/93/24/9a570f49dfefc16e9ce1f483bb2d5bff701b95094e051db502e3c11f5092/pyspellchecker-0.5.3-py2.py3-none-any.whl (1.9MB)\n",
            "\u001b[K     |████████████████████████████████| 1.9MB 8.1MB/s \n",
            "\u001b[?25hInstalling collected packages: pyspellchecker\n",
            "Successfully installed pyspellchecker-0.5.3\n"
          ],
          "name": "stdout"
        }
      ]
    },
    {
      "cell_type": "code",
      "metadata": {
        "id": "qmiZdAFpxntA",
        "colab_type": "code",
        "outputId": "ef07edc1-476c-4fa1-8adb-e7079a34869b",
        "colab": {
          "base_uri": "https://localhost:8080/",
          "height": 34
        }
      },
      "source": [
        "def spelling(token,sent1):\n",
        "\n",
        "  from spellchecker import SpellChecker\n",
        "\n",
        "  spell = SpellChecker()\n",
        "\n",
        "  # find those words that may be misspelled\n",
        "  misspelled = spell.unknown(token)\n",
        "  misspelled=list(misspelled)\n",
        "\n",
        "  new_word=[]\n",
        "  for word in misspelled:\n",
        "      # Get the one `most likely` answer\n",
        "      new_word.append(spell.correction(word))\n",
        "  length = len(misspelled)\n",
        "  for i in range(0,length):\n",
        "    sent1=sent1.replace(misspelled[i],new_word[i])\n",
        "  return(sent1)\n",
        "\n",
        "right_word=[]\n",
        "sent1 = \"who is apointed ceo oof Google\"\n",
        "token=word_tokenize(sent1)\n",
        "right_word.append(spelling(token,sent1))\n",
        "sent1=(right_word[0])\n",
        "sent1=sent1.lower()\n",
        "print(sent1)"
      ],
      "execution_count": 4,
      "outputs": [
        {
          "output_type": "stream",
          "text": [
            "who is appointed ceo of google\n"
          ],
          "name": "stdout"
        }
      ]
    }
  ]
}