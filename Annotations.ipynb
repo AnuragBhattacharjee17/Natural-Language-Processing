{
  "nbformat": 4,
  "nbformat_minor": 0,
  "metadata": {
    "colab": {
      "name": "Annotations.ipynb",
      "provenance": [],
      "collapsed_sections": [],
      "include_colab_link": true
    },
    "kernelspec": {
      "name": "python3",
      "display_name": "Python 3"
    }
  },
  "cells": [
    {
      "cell_type": "markdown",
      "metadata": {
        "id": "view-in-github",
        "colab_type": "text"
      },
      "source": [
        "<a href=\"https://colab.research.google.com/github/AnuragBhattacharjee17/Natural-Language-Processing/blob/master/Annotations.ipynb\" target=\"_parent\"><img src=\"https://colab.research.google.com/assets/colab-badge.svg\" alt=\"Open In Colab\"/></a>"
      ]
    },
    {
      "cell_type": "code",
      "metadata": {
        "id": "t4gVqsPMYcn9",
        "colab_type": "code",
        "outputId": "ba0af7d4-2e95-4f99-d9f6-2abf221294eb",
        "colab": {
          "base_uri": "https://localhost:8080/",
          "height": 221
        }
      },
      "source": [
        "#Chunking\n",
        "#The below code demonstrates the usage of nltk.ne_chunk() method which works on a POS tagged list of the text.\n",
        "import nltk\n",
        "from nltk import word_tokenize\n",
        "from nltk import pos_tag\n",
        "from nltk import ne_chunk\n",
        "nltk.download('punkt')\n",
        "nltk.download('averaged_perceptron_tagger')\n",
        "nltk.download('maxent_ne_chunker')\n",
        "nltk.download('words')"
      ],
      "execution_count": 0,
      "outputs": [
        {
          "output_type": "stream",
          "text": [
            "[nltk_data] Downloading package punkt to /root/nltk_data...\n",
            "[nltk_data]   Package punkt is already up-to-date!\n",
            "[nltk_data] Downloading package averaged_perceptron_tagger to\n",
            "[nltk_data]     /root/nltk_data...\n",
            "[nltk_data]   Package averaged_perceptron_tagger is already up-to-\n",
            "[nltk_data]       date!\n",
            "[nltk_data] Downloading package maxent_ne_chunker to\n",
            "[nltk_data]     /root/nltk_data...\n",
            "[nltk_data]   Package maxent_ne_chunker is already up-to-date!\n",
            "[nltk_data] Downloading package words to /root/nltk_data...\n",
            "[nltk_data]   Unzipping corpora/words.zip.\n"
          ],
          "name": "stdout"
        },
        {
          "output_type": "execute_result",
          "data": {
            "text/plain": [
              "True"
            ]
          },
          "metadata": {
            "tags": []
          },
          "execution_count": 13
        }
      ]
    },
    {
      "cell_type": "code",
      "metadata": {
        "id": "47lS2CPoZhC2",
        "colab_type": "code",
        "colab": {}
      },
      "source": [
        "text = \"\"\"Barack Hussein Obama (born August 4, 1961) is an American politician \n",
        "who served as the 44th President of the United States from January 20, 2009, to January 20, 2017.\n",
        "A member of the Democratic Party, he was the first African American to assume the presidency \n",
        "and previously served as a United States Senator from Illinois (2005–2008).\"\"\""
      ],
      "execution_count": 0,
      "outputs": []
    },
    {
      "cell_type": "code",
      "metadata": {
        "id": "lKSJALluZoDd",
        "colab_type": "code",
        "outputId": "23001fb7-7abb-4e89-f79b-66255f7b0f38",
        "colab": {
          "base_uri": "https://localhost:8080/",
          "height": 54
        }
      },
      "source": [
        "tokenized_text = nltk.word_tokenize(text)\n",
        "print(tokenized_text)"
      ],
      "execution_count": 0,
      "outputs": [
        {
          "output_type": "stream",
          "text": [
            "['Barack', 'Hussein', 'Obama', '(', 'born', 'August', '4', ',', '1961', ')', 'is', 'an', 'American', 'politician', 'who', 'served', 'as', 'the', '44th', 'President', 'of', 'the', 'United', 'States', 'from', 'January', '20', ',', '2009', ',', 'to', 'January', '20', ',', '2017', '.', 'A', 'member', 'of', 'the', 'Democratic', 'Party', ',', 'he', 'was', 'the', 'first', 'African', 'American', 'to', 'assume', 'the', 'presidency', 'and', 'previously', 'served', 'as', 'a', 'United', 'States', 'Senator', 'from', 'Illinois', '(', '2005–2008', ')', '.']\n"
          ],
          "name": "stdout"
        }
      ]
    },
    {
      "cell_type": "code",
      "metadata": {
        "id": "CB9gdt1MaBT9",
        "colab_type": "code",
        "outputId": "5567f0b4-9b4b-4960-ecee-5cdebcd80f32",
        "colab": {
          "base_uri": "https://localhost:8080/",
          "height": 54
        }
      },
      "source": [
        "pos_text = pos_tag(tokenized_text)\n",
        "print(pos_text)"
      ],
      "execution_count": 0,
      "outputs": [
        {
          "output_type": "stream",
          "text": [
            "[('Barack', 'NNP'), ('Hussein', 'NNP'), ('Obama', 'NNP'), ('(', '('), ('born', 'VBN'), ('August', 'NNP'), ('4', 'CD'), (',', ','), ('1961', 'CD'), (')', ')'), ('is', 'VBZ'), ('an', 'DT'), ('American', 'JJ'), ('politician', 'NN'), ('who', 'WP'), ('served', 'VBD'), ('as', 'IN'), ('the', 'DT'), ('44th', 'CD'), ('President', 'NNP'), ('of', 'IN'), ('the', 'DT'), ('United', 'NNP'), ('States', 'NNPS'), ('from', 'IN'), ('January', 'NNP'), ('20', 'CD'), (',', ','), ('2009', 'CD'), (',', ','), ('to', 'TO'), ('January', 'NNP'), ('20', 'CD'), (',', ','), ('2017', 'CD'), ('.', '.'), ('A', 'DT'), ('member', 'NN'), ('of', 'IN'), ('the', 'DT'), ('Democratic', 'NNP'), ('Party', 'NNP'), (',', ','), ('he', 'PRP'), ('was', 'VBD'), ('the', 'DT'), ('first', 'JJ'), ('African', 'JJ'), ('American', 'NNP'), ('to', 'TO'), ('assume', 'VB'), ('the', 'DT'), ('presidency', 'NN'), ('and', 'CC'), ('previously', 'RB'), ('served', 'VBD'), ('as', 'IN'), ('a', 'DT'), ('United', 'NNP'), ('States', 'NNPS'), ('Senator', 'NNP'), ('from', 'IN'), ('Illinois', 'NNP'), ('(', '('), ('2005–2008', 'CD'), (')', ')'), ('.', '.')]\n"
          ],
          "name": "stdout"
        }
      ]
    },
    {
      "cell_type": "code",
      "metadata": {
        "id": "_8FF53G5aR2G",
        "colab_type": "code",
        "outputId": "b25c2f91-617b-405b-835c-4f8315673979",
        "colab": {
          "base_uri": "https://localhost:8080/",
          "height": 1000
        }
      },
      "source": [
        "chunk_text = ne_chunk(pos_text)\n",
        "print(chunk_text)"
      ],
      "execution_count": 0,
      "outputs": [
        {
          "output_type": "stream",
          "text": [
            "(S\n",
            "  (PERSON Barack/NNP)\n",
            "  (PERSON Hussein/NNP Obama/NNP)\n",
            "  (/(\n",
            "  born/VBN\n",
            "  August/NNP\n",
            "  4/CD\n",
            "  ,/,\n",
            "  1961/CD\n",
            "  )/)\n",
            "  is/VBZ\n",
            "  an/DT\n",
            "  (GPE American/JJ)\n",
            "  politician/NN\n",
            "  who/WP\n",
            "  served/VBD\n",
            "  as/IN\n",
            "  the/DT\n",
            "  44th/CD\n",
            "  President/NNP\n",
            "  of/IN\n",
            "  the/DT\n",
            "  (GPE United/NNP States/NNPS)\n",
            "  from/IN\n",
            "  January/NNP\n",
            "  20/CD\n",
            "  ,/,\n",
            "  2009/CD\n",
            "  ,/,\n",
            "  to/TO\n",
            "  January/NNP\n",
            "  20/CD\n",
            "  ,/,\n",
            "  2017/CD\n",
            "  ./.\n",
            "  A/DT\n",
            "  member/NN\n",
            "  of/IN\n",
            "  the/DT\n",
            "  (ORGANIZATION Democratic/NNP Party/NNP)\n",
            "  ,/,\n",
            "  he/PRP\n",
            "  was/VBD\n",
            "  the/DT\n",
            "  first/JJ\n",
            "  (ORGANIZATION African/JJ American/NNP)\n",
            "  to/TO\n",
            "  assume/VB\n",
            "  the/DT\n",
            "  presidency/NN\n",
            "  and/CC\n",
            "  previously/RB\n",
            "  served/VBD\n",
            "  as/IN\n",
            "  a/DT\n",
            "  (GPE United/NNP States/NNPS)\n",
            "  Senator/NNP\n",
            "  from/IN\n",
            "  (GPE Illinois/NNP)\n",
            "  (/(\n",
            "  2005–2008/CD\n",
            "  )/)\n",
            "  ./.)\n"
          ],
          "name": "stdout"
        }
      ]
    }
  ]
}