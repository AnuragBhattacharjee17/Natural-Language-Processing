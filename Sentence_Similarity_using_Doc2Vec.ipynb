{
  "nbformat": 4,
  "nbformat_minor": 0,
  "metadata": {
    "colab": {
      "name": "Sentence Similarity using Doc2Vec.ipynb",
      "provenance": [],
      "collapsed_sections": [],
      "authorship_tag": "ABX9TyNTSUVwlMGwz/KyUvVNOpS7",
      "include_colab_link": true
    },
    "kernelspec": {
      "name": "python3",
      "display_name": "Python 3"
    }
  },
  "cells": [
    {
      "cell_type": "markdown",
      "metadata": {
        "id": "view-in-github",
        "colab_type": "text"
      },
      "source": [
        "<a href=\"https://colab.research.google.com/github/AnuragBhattacharjee17/Natural-Language-Processing/blob/master/Sentence_Similarity_using_Doc2Vec.ipynb\" target=\"_parent\"><img src=\"https://colab.research.google.com/assets/colab-badge.svg\" alt=\"Open In Colab\"/></a>"
      ]
    },
    {
      "cell_type": "code",
      "metadata": {
        "id": "EpJQrQ0YNySI",
        "colab_type": "code",
        "colab": {
          "base_uri": "https://localhost:8080/",
          "height": 51
        },
        "outputId": "bd0624d5-09af-4c2b-d56e-16284323107f"
      },
      "source": [
        "import nltk\n",
        "from nltk import word_tokenize\n",
        "nltk.download(\"punkt\")\n",
        "from gensim import utils\n",
        "from gensim.models.doc2vec import LabeledSentence\n",
        "from gensim.models.doc2vec import TaggedDocument\n",
        "from gensim.models import Doc2Vec\n",
        "from sklearn.metrics.pairwise import cosine_similarity"
      ],
      "execution_count": 2,
      "outputs": [
        {
          "output_type": "stream",
          "text": [
            "[nltk_data] Downloading package punkt to /root/nltk_data...\n",
            "[nltk_data]   Package punkt is already up-to-date!\n"
          ],
          "name": "stdout"
        }
      ]
    },
    {
      "cell_type": "code",
      "metadata": {
        "id": "zF3hYq5QuTiY",
        "colab_type": "code",
        "colab": {}
      },
      "source": [
        "sent = \"I love my pet cat\"\n",
        "sent1 = \"What do i love?\"\n",
        "labelled=[]\n",
        "labelled.append(TaggedDocument(sent.split(),\"001\"))\n",
        "labelled.append(TaggedDocument(sent1.split(),\"002\"))"
      ],
      "execution_count": 0,
      "outputs": []
    },
    {
      "cell_type": "code",
      "metadata": {
        "id": "5V9iF3i3wAUd",
        "colab_type": "code",
        "colab": {
          "base_uri": "https://localhost:8080/",
          "height": 71
        },
        "outputId": "a282f69d-9375-43e6-fd3a-d37b968c05a4"
      },
      "source": [
        "model = Doc2Vec(dm = 1, min_count=1, window=10, size=150, sample=1e-4, negative=10)\n",
        "model.build_vocab(labelled)"
      ],
      "execution_count": 19,
      "outputs": [
        {
          "output_type": "stream",
          "text": [
            "/usr/local/lib/python3.6/dist-packages/gensim/models/doc2vec.py:570: UserWarning: The parameter `size` is deprecated, will be removed in 4.0.0, use `vector_size` instead.\n",
            "  warnings.warn(\"The parameter `size` is deprecated, will be removed in 4.0.0, use `vector_size` instead.\")\n"
          ],
          "name": "stderr"
        }
      ]
    },
    {
      "cell_type": "code",
      "metadata": {
        "id": "33lKa4KWwPzT",
        "colab_type": "code",
        "colab": {
          "base_uri": "https://localhost:8080/",
          "height": 411
        },
        "outputId": "2215425b-204a-4266-ac2b-7123529b7499"
      },
      "source": [
        "for epoch in range(20):\n",
        "    model.train(labelled,epochs=model.iter,total_examples=model.corpus_count)\n",
        "    print(\"Epoch #{} is complete.\".format(epoch+1))"
      ],
      "execution_count": 20,
      "outputs": [
        {
          "output_type": "stream",
          "text": [
            "Epoch #1 is complete.\n",
            "Epoch #2 is complete.\n",
            "Epoch #3 is complete.\n",
            "Epoch #4 is complete.\n",
            "Epoch #5 is complete.\n",
            "Epoch #6 is complete.\n",
            "Epoch #7 is complete.\n",
            "Epoch #8 is complete.\n",
            "Epoch #9 is complete.\n",
            "Epoch #10 is complete.\n",
            "Epoch #11 is complete.\n",
            "Epoch #12 is complete.\n",
            "Epoch #13 is complete.\n",
            "Epoch #14 is complete.\n",
            "Epoch #15 is complete.\n",
            "Epoch #16 is complete.\n",
            "Epoch #17 is complete.\n",
            "Epoch #18 is complete.\n",
            "Epoch #19 is complete.\n",
            "Epoch #20 is complete.\n"
          ],
          "name": "stdout"
        },
        {
          "output_type": "stream",
          "text": [
            "/usr/local/lib/python3.6/dist-packages/ipykernel_launcher.py:2: DeprecationWarning: Call to deprecated `iter` (Attribute will be removed in 4.0.0, use self.epochs instead).\n",
            "  \n"
          ],
          "name": "stderr"
        }
      ]
    },
    {
      "cell_type": "code",
      "metadata": {
        "id": "OKrW6gRawd40",
        "colab_type": "code",
        "colab": {
          "base_uri": "https://localhost:8080/",
          "height": 122
        },
        "outputId": "b61bb8eb-62a6-449a-f661-39188c438a75"
      },
      "source": [
        "\n",
        "score = model.n_similarity(sent.split(),sent1.split())\n",
        "print(score)\n"
      ],
      "execution_count": 21,
      "outputs": [
        {
          "output_type": "stream",
          "text": [
            "0.048687067\n"
          ],
          "name": "stdout"
        },
        {
          "output_type": "stream",
          "text": [
            "/usr/local/lib/python3.6/dist-packages/ipykernel_launcher.py:2: DeprecationWarning: Call to deprecated `n_similarity` (Method will be removed in 4.0.0, use self.wv.n_similarity() instead).\n",
            "  \n",
            "/usr/local/lib/python3.6/dist-packages/gensim/matutils.py:737: FutureWarning: Conversion of the second argument of issubdtype from `int` to `np.signedinteger` is deprecated. In future, it will be treated as `np.int64 == np.dtype(int).type`.\n",
            "  if np.issubdtype(vec.dtype, np.int):\n"
          ],
          "name": "stderr"
        }
      ]
    }
  ]
}